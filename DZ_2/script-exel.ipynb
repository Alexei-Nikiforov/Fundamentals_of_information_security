{
 "cells": [
  {
   "attachments": {},
   "cell_type": "markdown",
   "metadata": {},
   "source": [
    "**Задание**\n",
    "\n",
    "Используя полученный в ходе выполнения файл XLSX/CSV-файла «Перечень сформированных угроз», сформируйте перечень уникальных мер защиты, подсчитав вклад каждой меры в нейтрализацию соответствующего способа реализации угрозы (+1 балл). Отсортируйте полученный перечень по убыванию в части полученных баллов. Можно сделать с использованием Microsoft Excel, Google Sheets или написать обработчик CSV-файла на Python.\n",
    "\n",
    "Доп. задание: сделайте маппинг полученных мер с мерами из CIS Controls и/или NIST Cybersecurity Framework (CSF) там, где это возможно.\n",
    "\n",
    "Направьте ответ в табличном формате с использованием Google Docs:\n",
    "\n",
    "— код меры защиты\n",
    "\n",
    "— наименование меры защиты\n",
    "\n",
    "— количество баллов\n",
    "\n",
    "— наименование меры на английском языке из CIS Controls (опционально)\n",
    "\n",
    "— наименование меры на английском языке из NIST CSF (опционально)"
   ]
  },
  {
   "cell_type": "code",
   "execution_count": 1,
   "metadata": {},
   "outputs": [],
   "source": [
    "# Импортируем библиотеку pandas для работы с таблицами\n",
    "import pandas as pd"
   ]
  },
  {
   "cell_type": "code",
   "execution_count": 2,
   "metadata": {},
   "outputs": [],
   "source": [
    "# Считываем данные из файла Excel\n",
    "df = pd.read_excel('Перечень сформированных угроз.xlsx')"
   ]
  },
  {
   "cell_type": "code",
   "execution_count": 3,
   "metadata": {},
   "outputs": [],
   "source": [
    "# Создаем новый DataFrame new_df с нужными столбцами\n",
    "new_df = pd.DataFrame(columns=['Код меры защиты', 'Наименование меры защиты', 'Количество повторений'])"
   ]
  },
  {
   "cell_type": "code",
   "execution_count": 4,
   "metadata": {},
   "outputs": [],
   "source": [
    "# Разбиваем каждую строку в столбце 'Меры защиты' DataFrame df на подстроки по символу ';_x000d_\\n' и добавляем каждую подстроку в list_processed после удаления лишних символов\n",
    "list_processed = []\n",
    "for i in df['Меры защиты'].str.split(';_x000d_\\n'):\n",
    "        for j in i:\n",
    "            list_processed.append(j.strip(';_x000d_'))"
   ]
  },
  {
   "cell_type": "code",
   "execution_count": 5,
   "metadata": {},
   "outputs": [],
   "source": [
    "# Для каждого уникального значения в list_processed считаем количество его повторений в самом list_processed и добавляем его в словарь dict\n",
    "# Также создаем список temp с тремя элементами: кодом меры защиты, наименованием меры защиты и количеством повторений\n",
    "# Добавляем список temp в DataFrame new_df\n",
    "dict = {}\n",
    "for i in set(list_processed):\n",
    "    temp = list()\n",
    "    dict[i] = list_processed.count(i)\n",
    "    temp.insert(0, i[:i.find(' ')])\n",
    "    temp.insert(1, i[i.find(' ') + 1:])\n",
    "    temp.insert(2, list_processed.count(i))\n",
    "    new_df.loc[len(new_df.index)] = [temp[0], temp[1], temp[2]]"
   ]
  },
  {
   "cell_type": "code",
   "execution_count": 6,
   "metadata": {},
   "outputs": [],
   "source": [
    "# Сохраняем результат в другой файл с отсортированным столбцом повторений\n",
    "new_df.sort_values(ascending=False, by='Количество повторений').to_excel('result.xlsx')"
   ]
  }
 ],
 "metadata": {
  "kernelspec": {
   "display_name": "Python 3",
   "language": "python",
   "name": "python3"
  },
  "language_info": {
   "codemirror_mode": {
    "name": "ipython",
    "version": 3
   },
   "file_extension": ".py",
   "mimetype": "text/x-python",
   "name": "python",
   "nbconvert_exporter": "python",
   "pygments_lexer": "ipython3",
   "version": "3.11.4"
  },
  "orig_nbformat": 4
 },
 "nbformat": 4,
 "nbformat_minor": 2
}
